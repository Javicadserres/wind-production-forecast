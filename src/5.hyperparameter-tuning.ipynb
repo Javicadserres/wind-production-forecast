{
 "cells": [
  {
   "cell_type": "code",
   "execution_count": 1,
   "metadata": {},
   "outputs": [
    {
     "data": {
      "text/plain": [
       "<torch._C.Generator at 0x22545900a90>"
      ]
     },
     "execution_count": 1,
     "metadata": {},
     "output_type": "execute_result"
    }
   ],
   "source": [
    "import pandas as pd\n",
    "import torch\n",
    "import torch.nn as nn\n",
    "import torch.optim as optim\n",
    "import matplotlib.pyplot as plt\n",
    "\n",
    "from matplotlib import cm\n",
    "from sklearn.preprocessing import MinMaxScaler\n",
    "from pathlib import Path\n",
    "from model.losses import SmoothPinballLoss, PinballLoss\n",
    "from model.model import LSTM, LinearNet, QuantileNet\n",
    "from data.preprocessing import FrameTorch\n",
    "from model.trainer import Trainer\n",
    "from utils import get_scores\n",
    "\n",
    "torch.manual_seed(0)"
   ]
  },
  {
   "cell_type": "markdown",
   "metadata": {},
   "source": [
    "#### Import data and set quantiles"
   ]
  },
  {
   "cell_type": "code",
   "execution_count": 2,
   "metadata": {},
   "outputs": [],
   "source": [
    "PATH_DATA = Path.cwd().parent / 'data' / 'files'\n",
    "\n",
    "data = pd.read_csv((PATH_DATA / 'data.csv'), index_col='time')\n",
    "\n",
    "# quantiles to predict\n",
    "quantiles = torch.tensor([0.025, 0.05, 0.1, 0.15, 0.85, 0.9, 0.95, 0.975])"
   ]
  },
  {
   "cell_type": "markdown",
   "metadata": {},
   "source": [
    "## LSTM 1 layer"
   ]
  },
  {
   "cell_type": "code",
   "execution_count": 3,
   "metadata": {},
   "outputs": [],
   "source": [
    "# lookback periods\n",
    "slide = 6"
   ]
  },
  {
   "cell_type": "code",
   "execution_count": 4,
   "metadata": {},
   "outputs": [],
   "source": [
    "data_non_spread = data.drop(data.filter(regex='spread').columns, axis=1)\n",
    "# intialize frametorch\n",
    "frametorch_all = FrameTorch(data_non_spread)\n",
    "# split data\n",
    "frametorch_all.split_data()\n",
    "# scale datag\n",
    "frametorch_all.scale_data(method=MinMaxScaler)\n",
    "\n",
    "# train, val and test loaders\n",
    "train_loader, val_loader, test_loader = frametorch_all.data_to_loader(slide=slide)"
   ]
  },
  {
   "cell_type": "code",
   "execution_count": 5,
   "metadata": {},
   "outputs": [],
   "source": [
    "# number of inputs and outputs\n",
    "n_inputs = frametorch_all.data.shape[1] - 1\n",
    "n_outputs = len(quantiles)"
   ]
  },
  {
   "cell_type": "code",
   "execution_count": 6,
   "metadata": {},
   "outputs": [],
   "source": [
    "# model\n",
    "quantilenet_smooth = LSTM(input_size=n_inputs, out_size=n_outputs, hidden_size=slide, n_layers=1)\n",
    "# criterion to use\n",
    "criterion = SmoothPinballLoss(quantiles)\n",
    "# optimizer\n",
    "optimizer = optim.Adam(quantilenet_smooth.parameters(), lr=0.0003)\n",
    "# trainer class\n",
    "trainer_smooth = Trainer(quantilenet_smooth, criterion, optimizer)"
   ]
  },
  {
   "cell_type": "markdown",
   "metadata": {},
   "source": [
    "#### TRAIN DE MODEL"
   ]
  },
  {
   "cell_type": "code",
   "execution_count": 7,
   "metadata": {
    "scrolled": true
   },
   "outputs": [
    {
     "name": "stdout",
     "output_type": "stream",
     "text": [
      "epoch: 0 train loss: 0.849 val loss: 0.488\n",
      "epoch: 100 train loss: 0.097 val loss: 0.108\n",
      "epoch: 200 train loss: 0.089 val loss: 0.099\n",
      "epoch: 300 train loss: 0.085 val loss: 0.093\n",
      "epoch: 400 train loss: 0.083 val loss: 0.09\n",
      "epoch: 500 train loss: 0.083 val loss: 0.107\n"
     ]
    }
   ],
   "source": [
    "quantilenet_smooth = trainer_smooth.fit(\n",
    "    train_loader, val_loader, epochs=2000, n_logger=100, patience=100\n",
    ")"
   ]
  },
  {
   "cell_type": "markdown",
   "metadata": {},
   "source": [
    "## LSTM 2 layers"
   ]
  },
  {
   "cell_type": "code",
   "execution_count": 8,
   "metadata": {},
   "outputs": [],
   "source": [
    "# lookback periods\n",
    "slide = 6"
   ]
  },
  {
   "cell_type": "code",
   "execution_count": 9,
   "metadata": {},
   "outputs": [],
   "source": [
    "data_non_spread2 = data.drop(data.filter(regex='spread').columns, axis=1)\n",
    "# intialize frametorch\n",
    "frametorch_all2 = FrameTorch(data_non_spread2)\n",
    "# split data\n",
    "frametorch_all2.split_data()\n",
    "# scale datag\n",
    "frametorch_all2.scale_data(method=MinMaxScaler)\n",
    "\n",
    "# train, val and test loaders\n",
    "train_loader, val_loader, test_loader = frametorch_all2.data_to_loader(slide=slide)"
   ]
  },
  {
   "cell_type": "code",
   "execution_count": 10,
   "metadata": {},
   "outputs": [],
   "source": [
    "# number of inputs and outputs\n",
    "n_inputs = frametorch_all2.data.shape[1] - 1\n",
    "n_outputs = len(quantiles)"
   ]
  },
  {
   "cell_type": "code",
   "execution_count": 11,
   "metadata": {},
   "outputs": [],
   "source": [
    "# model\n",
    "quantilenet_smooth2 = LSTM(input_size=n_inputs, out_size=n_outputs, hidden_size=slide, n_layers=2)\n",
    "# criterion to use\n",
    "criterion = SmoothPinballLoss(quantiles)\n",
    "# optimizer\n",
    "optimizer = optim.Adam(quantilenet_smooth2.parameters(), lr=0.0003)\n",
    "# trainer class\n",
    "trainer_smooth2 = Trainer(quantilenet_smooth2, criterion, optimizer)"
   ]
  },
  {
   "cell_type": "markdown",
   "metadata": {},
   "source": [
    "#### TRAIN DE MODEL"
   ]
  },
  {
   "cell_type": "code",
   "execution_count": 12,
   "metadata": {
    "scrolled": true
   },
   "outputs": [
    {
     "name": "stdout",
     "output_type": "stream",
     "text": [
      "epoch: 0 train loss: 1.308 val loss: 0.6\n",
      "epoch: 100 train loss: 0.096 val loss: 0.105\n",
      "epoch: 200 train loss: 0.086 val loss: 0.097\n",
      "epoch: 300 train loss: 0.082 val loss: 0.092\n",
      "epoch: 400 train loss: 0.08 val loss: 0.09\n"
     ]
    }
   ],
   "source": [
    "quantilenet_smooth2 = trainer_smooth2.fit(\n",
    "    train_loader, val_loader, epochs=2000, n_logger=100, patience=100\n",
    ")"
   ]
  },
  {
   "cell_type": "markdown",
   "metadata": {},
   "source": [
    "## LSTM 3 layers"
   ]
  },
  {
   "cell_type": "code",
   "execution_count": 13,
   "metadata": {},
   "outputs": [],
   "source": [
    "# lookback periods\n",
    "slide = 6"
   ]
  },
  {
   "cell_type": "code",
   "execution_count": 14,
   "metadata": {},
   "outputs": [],
   "source": [
    "data_non_spread3 = data.drop(data.filter(regex='spread').columns, axis=1)\n",
    "# intialize frametorch\n",
    "frametorch_all3 = FrameTorch(data_non_spread3)\n",
    "# split data\n",
    "frametorch_all3.split_data()\n",
    "# scale datag\n",
    "frametorch_all3.scale_data(method=MinMaxScaler)\n",
    "\n",
    "# train, val and test loaders\n",
    "train_loader, val_loader, test_loader = frametorch_all3.data_to_loader(slide=slide)"
   ]
  },
  {
   "cell_type": "code",
   "execution_count": 15,
   "metadata": {},
   "outputs": [],
   "source": [
    "# number of inputs and outputs\n",
    "n_inputs = frametorch_all3.data.shape[1] - 1\n",
    "n_outputs = len(quantiles)"
   ]
  },
  {
   "cell_type": "code",
   "execution_count": 16,
   "metadata": {},
   "outputs": [],
   "source": [
    "# model\n",
    "quantilenet_smooth3 = LSTM(input_size=n_inputs, out_size=n_outputs, hidden_size=slide, n_layers=3)\n",
    "# criterion to use\n",
    "criterion = SmoothPinballLoss(quantiles)\n",
    "# optimizer\n",
    "optimizer = optim.Adam(quantilenet_smooth3.parameters(), lr=0.0003)\n",
    "# trainer class\n",
    "trainer_smooth3 = Trainer(quantilenet_smooth3, criterion, optimizer)"
   ]
  },
  {
   "cell_type": "markdown",
   "metadata": {},
   "source": [
    "#### TRAIN DE MODEL"
   ]
  },
  {
   "cell_type": "code",
   "execution_count": 17,
   "metadata": {
    "scrolled": true
   },
   "outputs": [
    {
     "name": "stdout",
     "output_type": "stream",
     "text": [
      "epoch: 0 train loss: 1.666 val loss: 0.849\n",
      "epoch: 100 train loss: 0.095 val loss: 0.1\n",
      "epoch: 200 train loss: 0.087 val loss: 0.096\n",
      "epoch: 300 train loss: 0.085 val loss: 0.091\n"
     ]
    }
   ],
   "source": [
    "quantilenet_smooth3 = trainer_smooth3.fit(\n",
    "    train_loader, val_loader, epochs=2000, n_logger=100, patience=100\n",
    ")"
   ]
  },
  {
   "cell_type": "markdown",
   "metadata": {},
   "source": [
    "## COMPARE MODELS"
   ]
  },
  {
   "cell_type": "code",
   "execution_count": 18,
   "metadata": {},
   "outputs": [],
   "source": [
    "# lsmt\n",
    "train_loss_lstm = pd.Series(trainer_smooth.train_losses[1:])\n",
    "val_loss_lstm = pd.Series(trainer_smooth.val_losses)\n",
    "# mlp\n",
    "train_loss_lstm2 = pd.Series(trainer_smooth2.train_losses[1:])\n",
    "val_loss_lstm2 = pd.Series(trainer_smooth2.val_losses)\n",
    "# linear\n",
    "train_loss_lstm3 = pd.Series(trainer_smooth3.train_losses[1:])\n",
    "val_loss_lstm3 = pd.Series(trainer_smooth3.val_losses)\n",
    "\n",
    "# aggregate\n",
    "train_loss = pd.concat(\n",
    "    [train_loss_lstm, train_loss_lstm2, train_loss_lstm3], \n",
    "    axis=1, \n",
    "    keys=['LSTM 1 layer', 'LSTM 2 layer', 'LSTM 3 layer']\n",
    ")\n",
    "validation_loss = pd.concat(\n",
    "    [val_loss_lstm, val_loss_lstm2, val_loss_lstm3], \n",
    "    axis=1, \n",
    "    keys=['LSTM 1 layer', 'LSTM 2 layer', 'LSTM 3 layer']\n",
    ")"
   ]
  },
  {
   "cell_type": "code",
   "execution_count": 19,
   "metadata": {},
   "outputs": [
    {
     "data": {
      "image/png": "[encoded data removed]",
      "text/plain": [
       "<Figure size 1080x288 with 2 Axes>"
      ]
     },
     "metadata": {
      "needs_background": "light"
     },
     "output_type": "display_data"
    }
   ],
   "source": [
    "fig, ax = plt.subplots(ncols=2, figsize=(15, 4), sharey=True)\n",
    "\n",
    "train_loss.plot(ax=ax[0])\n",
    "validation_loss.plot(ax=ax[1])\n",
    "\n",
    "ax[0].set_ylabel('Loss')\n",
    "ax[0].set_title('Train Loss per epoch')\n",
    "ax[0].grid()\n",
    "\n",
    "ax[1].set_title('Validation Loss per epoch')\n",
    "ax[1].grid()"
   ]
  },
  {
   "cell_type": "markdown",
   "metadata": {},
   "source": [
    "### Predictions"
   ]
  },
  {
   "cell_type": "code",
   "execution_count": 20,
   "metadata": {},
   "outputs": [],
   "source": [
    "train_loader, val_loader, test_loader = frametorch_all.data_to_loader(slide=slide)\n",
    "\n",
    "# validation input and target\n",
    "inputs, target_lstm = val_loader.dataset.inputs, val_loader.dataset.target\n",
    "y_test_lstm = pd.Series(target_lstm.squeeze().tolist())\n",
    "\n",
    "# quantilenet predictions\n",
    "_y_pred_lstm = trainer_smooth.best_model(inputs)\n",
    "y_pred_lstm = pd.DataFrame(_y_pred_lstm.tolist(), columns=quantiles.tolist())"
   ]
  },
  {
   "cell_type": "code",
   "execution_count": 21,
   "metadata": {},
   "outputs": [],
   "source": [
    "train_loader, val_loader, test_loader = frametorch_all2.data_to_loader(slide=slide)\n",
    "\n",
    "# validation input and target\n",
    "inputs, target_lstm2 = val_loader.dataset.inputs, val_loader.dataset.target\n",
    "y_test_lstm2 = pd.Series(target_lstm2.squeeze().tolist())\n",
    "\n",
    "# quantilenet predictions\n",
    "_y_pred_lstm2 = trainer_smooth2.best_model(inputs)\n",
    "y_pred_lstm2 = pd.DataFrame(_y_pred_lstm2.tolist(), columns=quantiles.tolist())\n"
   ]
  },
  {
   "cell_type": "code",
   "execution_count": 22,
   "metadata": {},
   "outputs": [],
   "source": [
    "train_loader, val_loader, test_loader = frametorch_all3.data_to_loader(slide=slide)\n",
    "\n",
    "# validation input and target\n",
    "inputs, target_lstm3 = val_loader.dataset.inputs, val_loader.dataset.target\n",
    "y_test_lstm3 = pd.Series(target_lstm3.squeeze().tolist())\n",
    "\n",
    "# quantilenet predictions\n",
    "_y_pred_lstm3 = trainer_smooth3.best_model(inputs)\n",
    "y_pred_lstm3 = pd.DataFrame(_y_pred_lstm3.tolist(), columns=quantiles.tolist())"
   ]
  },
  {
   "cell_type": "markdown",
   "metadata": {},
   "source": [
    "## Scores"
   ]
  },
  {
   "cell_type": "code",
   "execution_count": 25,
   "metadata": {},
   "outputs": [
    {
     "data": {
      "text/html": [
       "<div>\n",
       "<style scoped>\n",
       "    .dataframe tbody tr th:only-of-type {\n",
       "        vertical-align: middle;\n",
       "    }\n",
       "\n",
       "    .dataframe tbody tr th {\n",
       "        vertical-align: top;\n",
       "    }\n",
       "\n",
       "    .dataframe thead th {\n",
       "        text-align: right;\n",
       "    }\n",
       "</style>\n",
       "<table border=\"1\" class=\"dataframe\">\n",
       "  <thead>\n",
       "    <tr style=\"text-align: right;\">\n",
       "      <th></th>\n",
       "      <th>LSTM 1 Layer</th>\n",
       "      <th>LSTM 2 Layer</th>\n",
       "      <th>LSTM 3 Layer</th>\n",
       "    </tr>\n",
       "  </thead>\n",
       "  <tbody>\n",
       "    <tr>\n",
       "      <th>QS</th>\n",
       "      <td>0.089525</td>\n",
       "      <td>0.083476</td>\n",
       "      <td>0.085919</td>\n",
       "    </tr>\n",
       "    <tr>\n",
       "      <th>IS</th>\n",
       "      <td>0.312740</td>\n",
       "      <td>0.291985</td>\n",
       "      <td>0.300757</td>\n",
       "    </tr>\n",
       "    <tr>\n",
       "      <th>Sharpnees</th>\n",
       "      <td>0.200416</td>\n",
       "      <td>0.191809</td>\n",
       "      <td>0.193648</td>\n",
       "    </tr>\n",
       "    <tr>\n",
       "      <th>ACE</th>\n",
       "      <td>1.052235</td>\n",
       "      <td>1.355332</td>\n",
       "      <td>0.452493</td>\n",
       "    </tr>\n",
       "  </tbody>\n",
       "</table>\n",
       "</div>"
      ],
      "text/plain": [
       "           LSTM 1 Layer  LSTM 2 Layer  LSTM 3 Layer\n",
       "QS             0.089525      0.083476      0.085919\n",
       "IS             0.312740      0.291985      0.300757\n",
       "Sharpnees      0.200416      0.191809      0.193648\n",
       "ACE            1.052235      1.355332      0.452493"
      ]
     },
     "execution_count": 25,
     "metadata": {},
     "output_type": "execute_result"
    }
   ],
   "source": [
    "scores_lstm = get_scores(_y_pred_lstm, target_lstm, quantiles)\n",
    "scores_lstm2 = get_scores(_y_pred_lstm2, target_lstm3, quantiles)\n",
    "scores_lstm3 = get_scores(_y_pred_lstm3, target_lstm3, quantiles)\n",
    "\n",
    "final_scores = pd.concat(\n",
    "    [scores_lstm, scores_lstm2, scores_lstm3], axis=1, keys=['LSTM 1 Layer', 'LSTM 2 Layer', 'LSTM 3 Layer']\n",
    ")\n",
    "final_scores"
   ]
  }
 ],
 "metadata": {
  "interpreter": {
   "hash": "3bf7057b3dc3018a3df2d3471e55c40fe4c6f235c33790920dc2d668d496996a"
  },
  "kernelspec": {
   "display_name": "tfg",
   "language": "python",
   "name": "tfg"
  },
  "language_info": {
   "codemirror_mode": {
    "name": "ipython",
    "version": 3
   },
   "file_extension": ".py",
   "mimetype": "text/x-python",
   "name": "python",
   "nbconvert_exporter": "python",
   "pygments_lexer": "ipython3",
   "version": "3.9.7"
  }
 },
 "nbformat": 4,
 "nbformat_minor": 2
}

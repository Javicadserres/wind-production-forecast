{
 "cells": [
  {
   "cell_type": "code",
   "execution_count": 1,
   "metadata": {},
   "outputs": [],
   "source": [
    "import pandas as pd\n",
    "import torch\n",
    "import numpy as np\n",
    "\n",
    "from model.scores import AverageCoverageError, IntervalScore, IntervalScorePaper\n",
    "from pathlib import Path"
   ]
  },
  {
   "cell_type": "code",
   "execution_count": 2,
   "metadata": {},
   "outputs": [],
   "source": [
    "PATH_DATA = Path.cwd() / 'data' / 'files'"
   ]
  },
  {
   "cell_type": "code",
   "execution_count": 3,
   "metadata": {},
   "outputs": [],
   "source": [
    "data = pd.read_pickle((PATH_DATA / 'tests.pkl'))\n",
    "\n",
    "y_pred = data['pred'] \n",
    "target = data['target']\n",
    "\n",
    "quantiles = torch.tensor([0.025, 0.05, 0.1, 0.15, 0.85, 0.9, 0.95, 0.975])"
   ]
  },
  {
   "cell_type": "markdown",
   "metadata": {},
   "source": [
    "Functions from [github](https://github.com/hatalis/Quantile_Detector/blob/master/evaluation/evaluate_results.py) profile of the author of the paper:"
   ]
  },
  {
   "cell_type": "code",
   "execution_count": 4,
   "metadata": {},
   "outputs": [],
   "source": [
    "def intervalScore(q_hat, tau, n_tau, n_test, y_test):\n",
    "    n_pi = int(n_tau / 2)  # number of prediction intervals\n",
    "    interval_score = torch.zeros((n_pi, 1))\n",
    "    sharp_score = torch.zeros((n_pi, 1))\n",
    "\n",
    "    # calculate PICP\n",
    "    PINC = [0] * n_pi\n",
    "    for m in range(0, n_pi):\n",
    "        PINC[m] = tau[-(m + 1)] - tau[m]\n",
    "\n",
    "    # calculate interval score sharpness\n",
    "    for m in range(0, n_pi):\n",
    "        LB = q_hat[:, m]\n",
    "        UB = q_hat[:, -(m + 1)]\n",
    "        alpha = 1 - PINC[m]\n",
    "\n",
    "        IS = torch.zeros((n_test, 1))\n",
    "        sharpness = torch.zeros((n_test, 1))\n",
    "        for i in range(0, n_test):\n",
    "            L = LB[i]\n",
    "            U = UB[i]\n",
    "            delta = U - L\n",
    "            y = y_test[i]\n",
    "            sharpness[i] = delta\n",
    "            if y < L:\n",
    "                IS[i] = -2 * alpha * delta - 4 * (L - y)\n",
    "            elif y > U:\n",
    "                IS[i] = -2 * alpha * delta - 4 * (y - U)\n",
    "            else:\n",
    "                IS[i] = -2 * alpha * delta\n",
    "\n",
    "        sharp_score[m] = torch.mean(sharpness)\n",
    "        interval_score[m] = torch.mean(IS)\n",
    "\n",
    "    # average q-scores from all PIs into a single score\n",
    "    interval_score = torch.mean(interval_score)\n",
    "    sharp_score = torch.mean(sharp_score)\n",
    "\n",
    "    return interval_score, sharp_score, PINC, IS\n",
    "\n",
    "\n",
    "def coverageScore(q_hat, tau, n_tau, n_test, y_test):\n",
    "    n_pi = int(n_tau / 2)  # number of prediction intervals\n",
    "    PICP = np.zeros((n_pi, 1))\n",
    "    ACE = np.zeros((n_pi, 1))\n",
    "\n",
    "    # calculate PICP\n",
    "    PINC = [0] * n_pi\n",
    "    for m in range(0, n_pi):\n",
    "        PINC[m] = tau[-(m + 1)] - tau[m]\n",
    "        PINC[m] = PINC[m]\n",
    "\n",
    "        # calculate PICP and then ACE\n",
    "    for m in range(0, n_pi):\n",
    "        LB = q_hat[:, m]\n",
    "        UB = q_hat[:, -(m + 1)]\n",
    "        c = 0\n",
    "        for i in range(0, n_test):\n",
    "            if y_test[i] <= UB[i] and y_test[i] >= LB[i]:\n",
    "                c += 1\n",
    "        PICP[m] = (1 / n_test) * c\n",
    "        ACE[m] = abs(PICP[m]-PINC[m])\n",
    "#         ACE[m] = (PICP[m] - PINC[m]) * 100\n",
    "\n",
    "    # average q-scores from all PIs into a single score\n",
    "    ACE = np.mean(ACE)*100\n",
    "\n",
    "    return ACE"
   ]
  },
  {
   "cell_type": "markdown",
   "metadata": {},
   "source": [
    "#### Interval Score "
   ]
  },
  {
   "cell_type": "code",
   "execution_count": 5,
   "metadata": {},
   "outputs": [
    {
     "data": {
      "text/plain": [
       "(-0.07624354213476181, 0.20293907821178436)"
      ]
     },
     "execution_count": 5,
     "metadata": {},
     "output_type": "execute_result"
    }
   ],
   "source": [
    "interval_score, sharp_score, PINC, IS = intervalScore(y_pred, quantiles, len(quantiles), len(target), target)\n",
    "interval_score.item(), sharp_score.item()"
   ]
  },
  {
   "cell_type": "code",
   "execution_count": 6,
   "metadata": {},
   "outputs": [
    {
     "data": {
      "text/plain": [
       "(-0.07624353468418121, 0.20293907821178436)"
      ]
     },
     "execution_count": 6,
     "metadata": {},
     "output_type": "execute_result"
    }
   ],
   "source": [
    "iscore = IntervalScore(quantiles)\n",
    "iscore.forward(y_pred, target)"
   ]
  },
  {
   "cell_type": "markdown",
   "metadata": {},
   "source": [
    "Paper interval score"
   ]
  },
  {
   "cell_type": "code",
   "execution_count": 7,
   "metadata": {},
   "outputs": [
    {
     "data": {
      "text/plain": [
       "(0.2631121575832367, 0.20293907821178436)"
      ]
     },
     "execution_count": 7,
     "metadata": {},
     "output_type": "execute_result"
    }
   ],
   "source": [
    "iscore = IntervalScorePaper(quantiles)\n",
    "iscore.forward(y_pred, target)"
   ]
  },
  {
   "cell_type": "markdown",
   "metadata": {},
   "source": [
    "#### Average Coverage Error"
   ]
  },
  {
   "cell_type": "code",
   "execution_count": 8,
   "metadata": {},
   "outputs": [
    {
     "data": {
      "text/plain": [
       "2.59999991618097"
      ]
     },
     "execution_count": 8,
     "metadata": {},
     "output_type": "execute_result"
    }
   ],
   "source": [
    "ace = coverageScore(\n",
    "    y_pred.detach().numpy(), quantiles.tolist(), len(quantiles), len(target), target.detach().numpy()\n",
    ")\n",
    "ace"
   ]
  },
  {
   "cell_type": "code",
   "execution_count": 9,
   "metadata": {},
   "outputs": [
    {
     "data": {
      "text/plain": [
       "tensor(2.6000)"
      ]
     },
     "execution_count": 9,
     "metadata": {},
     "output_type": "execute_result"
    }
   ],
   "source": [
    "acerror = AverageCoverageError(quantiles)\n",
    "acerror.forward(y_pred, target)"
   ]
  }
 ],
 "metadata": {
  "interpreter": {
   "hash": "3bf7057b3dc3018a3df2d3471e55c40fe4c6f235c33790920dc2d668d496996a"
  },
  "kernelspec": {
   "display_name": "tfg",
   "language": "python",
   "name": "tfg"
  },
  "language_info": {
   "codemirror_mode": {
    "name": "ipython",
    "version": 3
   },
   "file_extension": ".py",
   "mimetype": "text/x-python",
   "name": "python",
   "nbconvert_exporter": "python",
   "pygments_lexer": "ipython3",
   "version": "3.9.7"
  }
 },
 "nbformat": 4,
 "nbformat_minor": 2
}

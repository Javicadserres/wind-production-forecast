{
 "cells": [
  {
   "cell_type": "code",
   "execution_count": 14,
   "metadata": {},
   "outputs": [],
   "source": [
    "import torch\n",
    "import torch.nn as nn"
   ]
  },
  {
   "cell_type": "markdown",
   "metadata": {},
   "source": [
    "Check quantileloss functions"
   ]
  },
  {
   "cell_type": "code",
   "execution_count": 15,
   "metadata": {},
   "outputs": [],
   "source": [
    "def LoopLoss(preds, target, quantiles):\n",
    "    def _tilted_loss(q, e):\n",
    "        return torch.max((q-1) * e, q * e).unsqueeze(1)\n",
    "\n",
    "    err = target - preds\n",
    "    losses = [_tilted_loss(q, err[:, i])  # calculate per quantile\n",
    "              for i, q in enumerate(quantiles)]\n",
    "\n",
    "    loss = torch.mean(torch.sum(torch.cat(losses, dim=1), dim=1))\n",
    "    return loss\n",
    "\n",
    "\n",
    "class VectorLoss(nn.Module):\n",
    "    \"\"\"\n",
    "    Calculates the quantile loss function.\n",
    "\n",
    "    Attributes\n",
    "    ----------\n",
    "    self.pred : torch.tensor\n",
    "        Predictions.\n",
    "    self.target : torch.tensor\n",
    "        Target to predict.\n",
    "    self.quantiles : torch.tensort\n",
    "    \"\"\"\n",
    "    def __init__(self, quantiles):\n",
    "        super(VectorLoss,self).__init__()\n",
    "        self.pred = None\n",
    "        self.targes = None\n",
    "        self.quantiles = quantiles\n",
    "        \n",
    "    def forward(self,pred ,target):\n",
    "        \"\"\"\n",
    "        Computes the loss for the given prediction.\n",
    "        \"\"\"\n",
    "        error = target - pred\n",
    "        upper =  self.quantiles * error\n",
    "        lower = (self.quantiles - 1) * error \n",
    "\n",
    "        losses = torch.max(lower, upper)\n",
    "        loss = torch.mean(torch.sum(losses, dim=1))\n",
    "        \n",
    "        return loss"
   ]
  },
  {
   "cell_type": "code",
   "execution_count": 7,
   "metadata": {},
   "outputs": [
    {
     "data": {
      "text/plain": [
       "tensor([0.0000, 0.1250, 0.2500, 0.3750, 0.5000, 0.6250, 0.7500, 0.8750, 1.0000])"
      ]
     },
     "execution_count": 7,
     "metadata": {},
     "output_type": "execute_result"
    }
   ],
   "source": [
    "quantiles = torch.linspace(0, 1, 9)\n",
    "quantiles"
   ]
  },
  {
   "cell_type": "code",
   "execution_count": 11,
   "metadata": {},
   "outputs": [],
   "source": [
    "outputs = torch.randn((300, 9))\n",
    "target = torch.randn((300, 1))"
   ]
  },
  {
   "cell_type": "code",
   "execution_count": 16,
   "metadata": {},
   "outputs": [
    {
     "data": {
      "text/plain": [
       "tensor(5.1973)"
      ]
     },
     "execution_count": 16,
     "metadata": {},
     "output_type": "execute_result"
    }
   ],
   "source": [
    "criterion = VectorLoss(quantiles)\n",
    "criterion(outputs, target)"
   ]
  },
  {
   "cell_type": "code",
   "execution_count": 17,
   "metadata": {},
   "outputs": [
    {
     "data": {
      "text/plain": [
       "tensor(5.1973)"
      ]
     },
     "execution_count": 17,
     "metadata": {},
     "output_type": "execute_result"
    }
   ],
   "source": [
    "LoopLoss(outputs, target, quantiles)"
   ]
  },
  {
   "cell_type": "code",
   "execution_count": null,
   "metadata": {},
   "outputs": [],
   "source": []
  }
 ],
 "metadata": {
  "interpreter": {
   "hash": "3bf7057b3dc3018a3df2d3471e55c40fe4c6f235c33790920dc2d668d496996a"
  },
  "kernelspec": {
   "display_name": "Python 3.9.7 ('tfg')",
   "language": "python",
   "name": "python3"
  },
  "language_info": {
   "codemirror_mode": {
    "name": "ipython",
    "version": 3
   },
   "file_extension": ".py",
   "mimetype": "text/x-python",
   "name": "python",
   "nbconvert_exporter": "python",
   "pygments_lexer": "ipython3",
   "version": "3.9.7"
  },
  "orig_nbformat": 4
 },
 "nbformat": 4,
 "nbformat_minor": 2
}

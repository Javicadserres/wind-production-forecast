{
 "cells": [
  {
   "cell_type": "code",
   "execution_count": 1,
   "metadata": {},
   "outputs": [
    {
     "data": {
      "text/plain": [
       "<torch._C.Generator at 0x1df10d34a50>"
      ]
     },
     "execution_count": 1,
     "metadata": {},
     "output_type": "execute_result"
    }
   ],
   "source": [
    "import pandas as pd\n",
    "import torch\n",
    "import torch.nn as nn\n",
    "import torch.optim as optim\n",
    "import matplotlib.pyplot as plt\n",
    "\n",
    "from matplotlib import cm\n",
    "from sklearn.preprocessing import MinMaxScaler\n",
    "from pathlib import Path\n",
    "from model.losses import SmoothPinballLoss, PinballLoss\n",
    "from model.model import LSTM\n",
    "from data.preprocessing import FrameTorch\n",
    "from model.trainer import Trainer\n",
    "from utils import get_scores\n",
    "\n",
    "torch.manual_seed(0)"
   ]
  },
  {
   "cell_type": "markdown",
   "metadata": {},
   "source": [
    "#### Import data and set quantiles"
   ]
  },
  {
   "cell_type": "code",
   "execution_count": 2,
   "metadata": {},
   "outputs": [],
   "source": [
    "PATH_DATA = Path.cwd().parent / 'data' / 'files'\n",
    "\n",
    "data = pd.read_csv((PATH_DATA / 'data.csv'), index_col='time')\n",
    "\n",
    "# quantiles to predict\n",
    "quantiles = torch.tensor([0.025, 0.05, 0.1, 0.15, 0.85, 0.9, 0.95, 0.975])\n",
    "\n",
    "# lookback periods\n",
    "slide = 6"
   ]
  },
  {
   "cell_type": "code",
   "execution_count": 3,
   "metadata": {},
   "outputs": [],
   "source": [
    "data_non_spread = data.drop(data.filter(regex='spread').columns, axis=1)\n",
    "# intialize frametorch\n",
    "frametorch_all = FrameTorch(data_non_spread)\n",
    "# split data\n",
    "frametorch_all.split_data()\n",
    "# scale data\n",
    "frametorch_all.scale_data(method=MinMaxScaler)\n",
    "\n",
    "# train, val and test loaders\n",
    "train_loader, val_loader, test_loader = frametorch_all.data_to_loader(slide=slide)"
   ]
  },
  {
   "cell_type": "code",
   "execution_count": 4,
   "metadata": {},
   "outputs": [],
   "source": [
    "# number of inputs and outputs\n",
    "n_inputs = frametorch_all.data.shape[1] - 1\n",
    "n_outputs = len(quantiles)"
   ]
  },
  {
   "cell_type": "markdown",
   "metadata": {},
   "source": [
    "## LSTM USING ALL DATA WITH SMOOTH PINBALL LOSS"
   ]
  },
  {
   "cell_type": "code",
   "execution_count": 5,
   "metadata": {},
   "outputs": [],
   "source": [
    "# model\n",
    "quantilenet_smooth = LSTM(input_size=n_inputs, out_size=n_outputs, hidden_size=slide, n_layers=2)\n",
    "# criterion to use\n",
    "criterion = SmoothPinballLoss(quantiles)\n",
    "# optimizer\n",
    "optimizer = optim.Adam(quantilenet_smooth.parameters(), lr=0.0003)\n",
    "# trainer class\n",
    "trainer_smooth = Trainer(quantilenet_smooth, criterion, optimizer)"
   ]
  },
  {
   "cell_type": "markdown",
   "metadata": {},
   "source": [
    "#### TRAIN DE MODEL"
   ]
  },
  {
   "cell_type": "code",
   "execution_count": 17,
   "metadata": {
    "scrolled": true
   },
   "outputs": [],
   "source": [
    "quantilenet_smooth = trainer_smooth.fit(\n",
    "    train_loader, val_loader, epochs=2000, n_logger=100, patience=100\n",
    ")"
   ]
  },
  {
   "cell_type": "markdown",
   "metadata": {},
   "source": [
    "## LSTM USING ALL DATA WITH PINBALL LOSS"
   ]
  },
  {
   "cell_type": "code",
   "execution_count": 7,
   "metadata": {},
   "outputs": [],
   "source": [
    "data_non_spread = data.drop(data.filter(regex='spread').columns, axis=1)\n",
    "# intialize frametorch\n",
    "frametorch = FrameTorch(data_non_spread)\n",
    "# split data\n",
    "frametorch.split_data()\n",
    "# scale data\n",
    "frametorch.scale_data(method=MinMaxScaler)\n",
    "\n",
    "# train, val and test loaders\n",
    "train_loader, val_loader, test_loader = frametorch.data_to_loader(slide=slide)"
   ]
  },
  {
   "cell_type": "markdown",
   "metadata": {},
   "source": [
    "#### MODEL PREPARATION"
   ]
  },
  {
   "cell_type": "code",
   "execution_count": 8,
   "metadata": {},
   "outputs": [],
   "source": [
    "# number of inputs and outputs\n",
    "n_inputs = frametorch.data.shape[1] - 1\n",
    "n_outputs = len(quantiles)"
   ]
  },
  {
   "cell_type": "code",
   "execution_count": 9,
   "metadata": {},
   "outputs": [],
   "source": [
    "# model\n",
    "quantilenet = LSTM(input_size=n_inputs, out_size=n_outputs, hidden_size=slide, n_layers=2)\n",
    "# criterion to use\n",
    "criterion = PinballLoss(quantiles)\n",
    "# optimizer\n",
    "optimizer = optim.Adam(quantilenet.parameters(), lr=0.0003)\n",
    "# trainer class\n",
    "trainer = Trainer(quantilenet, criterion, optimizer)"
   ]
  },
  {
   "cell_type": "markdown",
   "metadata": {},
   "source": [
    "#### TRAIN DE MODEL"
   ]
  },
  {
   "cell_type": "code",
   "execution_count": 18,
   "metadata": {
    "scrolled": true
   },
   "outputs": [],
   "source": [
    "quantilenet = trainer.fit(\n",
    "    train_loader, val_loader, epochs=2000, n_logger=100, patience=100\n",
    ")"
   ]
  },
  {
   "cell_type": "markdown",
   "metadata": {},
   "source": [
    "## COMPARE MODELS"
   ]
  },
  {
   "cell_type": "code",
   "execution_count": 19,
   "metadata": {},
   "outputs": [],
   "source": [
    "train_loader, val_loader, test_loader = frametorch.data_to_loader(slide=slide)\n",
    "\n",
    "# validation input and target\n",
    "inputs, target = val_loader.dataset.inputs, val_loader.dataset.target\n",
    "y_test = pd.Series(target.squeeze().tolist())\n",
    "\n",
    "# quantilenet predictions\n",
    "y_pred_quantilenet = trainer.best_model(inputs)\n",
    "y_preds_quantilenet = pd.DataFrame(y_pred_quantilenet.tolist())"
   ]
  },
  {
   "cell_type": "markdown",
   "metadata": {},
   "source": [
    "Predictions without spread"
   ]
  },
  {
   "cell_type": "code",
   "execution_count": 20,
   "metadata": {},
   "outputs": [],
   "source": [
    "train_loader, val_loader, test_loader = frametorch.data_to_loader(slide=slide)\n",
    "\n",
    "# validation input and target\n",
    "inputs, _ = val_loader.dataset.inputs, val_loader.dataset.target\n",
    "\n",
    "# quantilenet predictions\n",
    "y_pred_quantilenet_smooth = trainer_smooth.best_model(inputs)\n",
    "y_preds_quantilenet_smooth = pd.DataFrame(y_pred_quantilenet_smooth.tolist())"
   ]
  },
  {
   "cell_type": "markdown",
   "metadata": {},
   "source": [
    "### COMPARE MODEL TYPES"
   ]
  },
  {
   "cell_type": "markdown",
   "metadata": {},
   "source": [
    "Convergence"
   ]
  },
  {
   "cell_type": "code",
   "execution_count": 16,
   "metadata": {},
   "outputs": [
    {
     "data": {
      "image/png": "[encoded data removed]",
      "text/plain": [
       "<Figure size 1080x360 with 2 Axes>"
      ]
     },
     "metadata": {
      "needs_background": "light"
     },
     "output_type": "display_data"
    }
   ],
   "source": [
    "loss_ss = pd.Series(trainer.train_losses[1:])\n",
    "validations_losses_ss = pd.Series(trainer.val_losses)\n",
    "\n",
    "loss_ss_smooth = pd.Series(trainer_smooth.train_losses[1:])\n",
    "validations_losses_ss_smooth = pd.Series(trainer_smooth.val_losses)\n",
    "\n",
    "fig, ax = plt.subplots(ncols=2, figsize=(15, 5), sharey=True)\n",
    "\n",
    "loss_ss.plot(ax=ax[0])\n",
    "loss_ss_smooth.plot(ax=ax[0])\n",
    "validations_losses_ss.plot(ax=ax[1])\n",
    "validations_losses_ss_smooth.plot(ax=ax[1])\n",
    "\n",
    "ax[0].set_ylabel('Loss')\n",
    "ax[0].set_title('Train Loss per epoch')\n",
    "ax[0].legend(['Only target', 'All data'])\n",
    "ax[0].grid()\n",
    "\n",
    "ax[1].set_title('Validation Loss per epoch')\n",
    "ax[1].legend(['Pinball Loss', 'Smooth Pinbal Loss'])\n",
    "ax[1].grid()"
   ]
  },
  {
   "cell_type": "markdown",
   "metadata": {},
   "source": [
    "Scores"
   ]
  },
  {
   "cell_type": "code",
   "execution_count": 21,
   "metadata": {},
   "outputs": [
    {
     "data": {
      "text/html": [
       "<div>\n",
       "<style scoped>\n",
       "    .dataframe tbody tr th:only-of-type {\n",
       "        vertical-align: middle;\n",
       "    }\n",
       "\n",
       "    .dataframe tbody tr th {\n",
       "        vertical-align: top;\n",
       "    }\n",
       "\n",
       "    .dataframe thead th {\n",
       "        text-align: right;\n",
       "    }\n",
       "</style>\n",
       "<table border=\"1\" class=\"dataframe\">\n",
       "  <thead>\n",
       "    <tr style=\"text-align: right;\">\n",
       "      <th></th>\n",
       "      <th>Pinball Loss</th>\n",
       "      <th>Smooth Pinball Loss</th>\n",
       "    </tr>\n",
       "  </thead>\n",
       "  <tbody>\n",
       "    <tr>\n",
       "      <th>QS</th>\n",
       "      <td>0.089476</td>\n",
       "      <td>0.086560</td>\n",
       "    </tr>\n",
       "    <tr>\n",
       "      <th>IS</th>\n",
       "      <td>0.311254</td>\n",
       "      <td>0.301852</td>\n",
       "    </tr>\n",
       "    <tr>\n",
       "      <th>Sharpnees</th>\n",
       "      <td>0.204039</td>\n",
       "      <td>0.197225</td>\n",
       "    </tr>\n",
       "    <tr>\n",
       "      <th>ACE</th>\n",
       "      <td>2.021712</td>\n",
       "      <td>1.548798</td>\n",
       "    </tr>\n",
       "  </tbody>\n",
       "</table>\n",
       "</div>"
      ],
      "text/plain": [
       "           Pinball Loss  Smooth Pinball Loss\n",
       "QS             0.089476             0.086560\n",
       "IS             0.311254             0.301852\n",
       "Sharpnees      0.204039             0.197225\n",
       "ACE            2.021712             1.548798"
      ]
     },
     "execution_count": 21,
     "metadata": {},
     "output_type": "execute_result"
    }
   ],
   "source": [
    "quantilenet_scores = get_scores(y_pred_quantilenet, target, quantiles)\n",
    "quantilenet_smooth_scores = get_scores(y_pred_quantilenet_smooth, target, quantiles)\n",
    "\n",
    "final_scores = pd.concat(\n",
    "    [quantilenet_scores, quantilenet_smooth_scores], axis=1, keys=['Pinball Loss', 'Smooth Pinball Loss']\n",
    ")\n",
    "final_scores"
   ]
  },
  {
   "cell_type": "markdown",
   "metadata": {},
   "source": [
    "Plots"
   ]
  },
  {
   "cell_type": "code",
   "execution_count": null,
   "metadata": {},
   "outputs": [],
   "source": []
  }
 ],
 "metadata": {
  "interpreter": {
   "hash": "3bf7057b3dc3018a3df2d3471e55c40fe4c6f235c33790920dc2d668d496996a"
  },
  "kernelspec": {
   "display_name": "tfg",
   "language": "python",
   "name": "tfg"
  },
  "language_info": {
   "codemirror_mode": {
    "name": "ipython",
    "version": 3
   },
   "file_extension": ".py",
   "mimetype": "text/x-python",
   "name": "python",
   "nbconvert_exporter": "python",
   "pygments_lexer": "ipython3",
   "version": "3.9.7"
  }
 },
 "nbformat": 4,
 "nbformat_minor": 2
}

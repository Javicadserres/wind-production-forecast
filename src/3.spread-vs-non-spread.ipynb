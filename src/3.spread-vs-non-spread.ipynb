{
 "cells": [
  {
   "cell_type": "code",
   "execution_count": 1,
   "metadata": {},
   "outputs": [
    {
     "data": {
      "text/plain": [
       "<torch._C.Generator at 0x2ed97bcda30>"
      ]
     },
     "execution_count": 1,
     "metadata": {},
     "output_type": "execute_result"
    }
   ],
   "source": [
    "import pandas as pd\n",
    "import torch\n",
    "import torch.optim as optim\n",
    "import matplotlib.pyplot as plt\n",
    "\n",
    "from matplotlib import cm\n",
    "from sklearn.preprocessing import MinMaxScaler\n",
    "from pathlib import Path\n",
    "from model.losses import SmoothPinballLoss\n",
    "from model.model import QuantileNet\n",
    "from data.preprocessing import FrameTorch\n",
    "from model.trainer import Trainer\n",
    "from utils import get_scores\n",
    "\n",
    "torch.manual_seed(0)"
   ]
  },
  {
   "cell_type": "markdown",
   "metadata": {},
   "source": [
    "#### Import data and set quantiles"
   ]
  },
  {
   "cell_type": "code",
   "execution_count": 2,
   "metadata": {},
   "outputs": [],
   "source": [
    "PATH_DATA = Path.cwd().parent / 'data' / 'files'\n",
    "\n",
    "data = pd.read_csv((PATH_DATA / 'data.csv'), index_col='time')\n",
    "\n",
    "# quantiles to predict\n",
    "quantiles = torch.tensor([0.025, 0.05, 0.1, 0.15, 0.85, 0.9, 0.95, 0.975])"
   ]
  },
  {
   "cell_type": "markdown",
   "metadata": {},
   "source": [
    "## DATA WITH NO SPREAD"
   ]
  },
  {
   "cell_type": "markdown",
   "metadata": {},
   "source": [
    "#### PREPARE DATA"
   ]
  },
  {
   "cell_type": "code",
   "execution_count": 3,
   "metadata": {},
   "outputs": [],
   "source": [
    "data_non_spread = data.drop(data.filter(regex='spread').columns, axis=1)\n",
    "# intialize frametorch\n",
    "frametorch_non_spread = FrameTorch(data_non_spread)\n",
    "# split data\n",
    "frametorch_non_spread.split_data()\n",
    "# scale data\n",
    "frametorch_non_spread.scale_data(method=MinMaxScaler)\n",
    "\n",
    "# train, val and test loaders\n",
    "train_loader, val_loader, test_loader = frametorch_non_spread.data_to_loader()"
   ]
  },
  {
   "cell_type": "markdown",
   "metadata": {},
   "source": [
    "#### MODEL PREPARATION"
   ]
  },
  {
   "cell_type": "code",
   "execution_count": 4,
   "metadata": {},
   "outputs": [],
   "source": [
    "# number of inputs and outputs\n",
    "n_inputs = frametorch_non_spread.data.shape[1] - 1\n",
    "n_outputs = len(quantiles)"
   ]
  },
  {
   "cell_type": "code",
   "execution_count": 5,
   "metadata": {},
   "outputs": [],
   "source": [
    "# model\n",
    "quantilenet_non_spread = QuantileNet(n_inputs=n_inputs, n_outputs=n_outputs)\n",
    "# criterion to use\n",
    "criterion = SmoothPinballLoss(quantiles)\n",
    "# optimizer\n",
    "optimizer = optim.Adam(quantilenet_non_spread.parameters(), lr=0.0003)\n",
    "# trainer class\n",
    "trainer_non_spread = Trainer(quantilenet_non_spread, criterion, optimizer)"
   ]
  },
  {
   "cell_type": "markdown",
   "metadata": {},
   "source": [
    "#### TRAIN DE MODEL"
   ]
  },
  {
   "cell_type": "code",
   "execution_count": 6,
   "metadata": {
    "scrolled": true
   },
   "outputs": [
    {
     "name": "stdout",
     "output_type": "stream",
     "text": [
      "epoch: 0 train loss: 1.013 val loss: 0.419\n",
      "epoch: 100 train loss: 0.094 val loss: 0.1\n",
      "epoch: 200 train loss: 0.091 val loss: 0.129\n"
     ]
    }
   ],
   "source": [
    "quantilenet_non_spread = trainer_non_spread.fit(\n",
    "    train_loader, val_loader, epochs=2000, n_logger=100, patience=100\n",
    ")"
   ]
  },
  {
   "cell_type": "markdown",
   "metadata": {},
   "source": [
    "## DATA WITH SPREAD"
   ]
  },
  {
   "cell_type": "markdown",
   "metadata": {},
   "source": [
    "#### PREPARE DATA"
   ]
  },
  {
   "cell_type": "code",
   "execution_count": 7,
   "metadata": {},
   "outputs": [],
   "source": [
    "# intialize frametorch\n",
    "frametorch = FrameTorch(data)\n",
    "# split data\n",
    "frametorch.split_data()\n",
    "# scale data\n",
    "frametorch.scale_data(method=MinMaxScaler)\n",
    "\n",
    "# train, val and test loaders\n",
    "train_loader, val_loader, test_loader = frametorch.data_to_loader()"
   ]
  },
  {
   "cell_type": "markdown",
   "metadata": {},
   "source": [
    "#### MODEL PREPARATION"
   ]
  },
  {
   "cell_type": "code",
   "execution_count": 8,
   "metadata": {},
   "outputs": [],
   "source": [
    "# number of inputs and outputs\n",
    "n_inputs = frametorch.data.shape[1] - 1\n",
    "n_outputs = len(quantiles)"
   ]
  },
  {
   "cell_type": "code",
   "execution_count": 9,
   "metadata": {},
   "outputs": [],
   "source": [
    "# model\n",
    "quantilenet = QuantileNet(n_inputs=n_inputs, n_outputs=n_outputs)\n",
    "# criterion to use\n",
    "criterion = SmoothPinballLoss(quantiles)\n",
    "# optimizer\n",
    "optimizer = optim.Adam(quantilenet.parameters(), lr=0.0003)\n",
    "# trainer class\n",
    "trainer = Trainer(quantilenet, criterion, optimizer)"
   ]
  },
  {
   "cell_type": "markdown",
   "metadata": {},
   "source": [
    "#### TRAIN DE MODEL"
   ]
  },
  {
   "cell_type": "code",
   "execution_count": 10,
   "metadata": {
    "scrolled": true
   },
   "outputs": [
    {
     "name": "stdout",
     "output_type": "stream",
     "text": [
      "epoch: 0 train loss: 0.53 val loss: 0.265\n",
      "epoch: 100 train loss: 0.092 val loss: 0.109\n",
      "epoch: 200 train loss: 0.084 val loss: 0.096\n"
     ]
    }
   ],
   "source": [
    "quantilenet = trainer.fit(\n",
    "    train_loader, val_loader, epochs=2000, n_logger=100, patience=100\n",
    ")"
   ]
  },
  {
   "cell_type": "markdown",
   "metadata": {},
   "source": [
    "### VALIDATION PREDICTIONS SPREAD vs NON SPREAD"
   ]
  },
  {
   "cell_type": "markdown",
   "metadata": {},
   "source": [
    "Predictions with spread"
   ]
  },
  {
   "cell_type": "code",
   "execution_count": 11,
   "metadata": {},
   "outputs": [],
   "source": [
    "# validation input and target\n",
    "inputs, target = frametorch.data_val[:, :-1], frametorch.data_val[:, -1:]\n",
    "inputs = torch.tensor(inputs, dtype=torch.float32)\n",
    "target = torch.tensor(target, dtype=torch.float32)\n",
    "y_test = pd.Series(target.squeeze().tolist())\n",
    "\n",
    "# quantilenet predictions\n",
    "y_pred_quantilenet = trainer.best_model(inputs)\n",
    "y_test = pd.Series(target.squeeze().tolist())\n",
    "y_preds_quantilenet = pd.DataFrame(y_pred_quantilenet.tolist())"
   ]
  },
  {
   "cell_type": "markdown",
   "metadata": {},
   "source": [
    "Predictions without spread"
   ]
  },
  {
   "cell_type": "code",
   "execution_count": 12,
   "metadata": {},
   "outputs": [],
   "source": [
    "# validation input and target\n",
    "inputs, _ = frametorch_non_spread.data_val[:, :-1], frametorch.data_val[:, -1:]\n",
    "inputs = torch.tensor(inputs, dtype=torch.float32)\n",
    "\n",
    "# quantilenet predictions\n",
    "y_pred_quantilenet_non_spread = trainer_non_spread.best_model(inputs)\n",
    "y_preds_quantilenet_non_spread = pd.DataFrame(y_pred_quantilenet_non_spread.tolist())"
   ]
  },
  {
   "cell_type": "markdown",
   "metadata": {},
   "source": [
    "### COMPARE MODEL TYPES"
   ]
  },
  {
   "cell_type": "markdown",
   "metadata": {},
   "source": [
    "Convergence"
   ]
  },
  {
   "cell_type": "code",
   "execution_count": 16,
   "metadata": {},
   "outputs": [
    {
     "data": {
      "image/png": "[encoded data removed]",
      "text/plain": [
       "<Figure size 1080x288 with 2 Axes>"
      ]
     },
     "metadata": {
      "needs_background": "light"
     },
     "output_type": "display_data"
    }
   ],
   "source": [
    "loss_ss = pd.Series(trainer.train_losses[1:])\n",
    "validations_losses_ss = pd.Series(trainer.val_losses)\n",
    "\n",
    "loss_ss_non_spread = pd.Series(trainer_non_spread.train_losses[1:])\n",
    "validations_losses_ss_non_spread = pd.Series(trainer_non_spread.val_losses)\n",
    "\n",
    "fig, ax = plt.subplots(ncols=2, figsize=(15, 4), sharey=True)\n",
    "\n",
    "loss_ss.plot(ax=ax[0])\n",
    "loss_ss_non_spread.plot(ax=ax[0])\n",
    "validations_losses_ss.plot(ax=ax[1])\n",
    "validations_losses_ss_non_spread.plot(ax=ax[1])\n",
    "\n",
    "ax[0].set_ylabel('Loss')\n",
    "ax[0].set_title('Train Loss per epoch')\n",
    "ax[0].legend(['Spread', 'Non Spread'])\n",
    "ax[0].grid()\n",
    "\n",
    "ax[1].set_title('Validation Loss per epoch')\n",
    "ax[1].legend(['Spread', 'Non Spread'])\n",
    "ax[1].grid()"
   ]
  },
  {
   "cell_type": "markdown",
   "metadata": {},
   "source": [
    "Scores"
   ]
  },
  {
   "cell_type": "code",
   "execution_count": 14,
   "metadata": {},
   "outputs": [
    {
     "data": {
      "text/html": [
       "<div>\n",
       "<style scoped>\n",
       "    .dataframe tbody tr th:only-of-type {\n",
       "        vertical-align: middle;\n",
       "    }\n",
       "\n",
       "    .dataframe tbody tr th {\n",
       "        vertical-align: top;\n",
       "    }\n",
       "\n",
       "    .dataframe thead th {\n",
       "        text-align: right;\n",
       "    }\n",
       "</style>\n",
       "<table border=\"1\" class=\"dataframe\">\n",
       "  <thead>\n",
       "    <tr style=\"text-align: right;\">\n",
       "      <th></th>\n",
       "      <th>Spread</th>\n",
       "      <th>Non Spread</th>\n",
       "    </tr>\n",
       "  </thead>\n",
       "  <tbody>\n",
       "    <tr>\n",
       "      <th>QS</th>\n",
       "      <td>0.094264</td>\n",
       "      <td>0.097966</td>\n",
       "    </tr>\n",
       "    <tr>\n",
       "      <th>IS</th>\n",
       "      <td>0.325717</td>\n",
       "      <td>0.335230</td>\n",
       "    </tr>\n",
       "    <tr>\n",
       "      <th>Sharpnees</th>\n",
       "      <td>0.202939</td>\n",
       "      <td>0.219739</td>\n",
       "    </tr>\n",
       "    <tr>\n",
       "      <th>ACE</th>\n",
       "      <td>1.789382</td>\n",
       "      <td>1.164384</td>\n",
       "    </tr>\n",
       "  </tbody>\n",
       "</table>\n",
       "</div>"
      ],
      "text/plain": [
       "             Spread  Non Spread\n",
       "QS         0.094264    0.097966\n",
       "IS         0.325717    0.335230\n",
       "Sharpnees  0.202939    0.219739\n",
       "ACE        1.789382    1.164384"
      ]
     },
     "execution_count": 14,
     "metadata": {},
     "output_type": "execute_result"
    }
   ],
   "source": [
    "quantilenet_scores = get_scores(y_pred_quantilenet, target, quantiles)\n",
    "quantilenet_non_spread_scores = get_scores(y_pred_quantilenet_non_spread, target, quantiles)\n",
    "\n",
    "final_scores = pd.concat(\n",
    "    [quantilenet_scores, quantilenet_non_spread_scores], axis=1, keys=['Spread', 'Non Spread']\n",
    ")\n",
    "final_scores"
   ]
  }
 ],
 "metadata": {
  "interpreter": {
   "hash": "3bf7057b3dc3018a3df2d3471e55c40fe4c6f235c33790920dc2d668d496996a"
  },
  "kernelspec": {
   "display_name": "tfg",
   "language": "python",
   "name": "tfg"
  },
  "language_info": {
   "codemirror_mode": {
    "name": "ipython",
    "version": 3
   },
   "file_extension": ".py",
   "mimetype": "text/x-python",
   "name": "python",
   "nbconvert_exporter": "python",
   "pygments_lexer": "ipython3",
   "version": "3.9.7"
  }
 },
 "nbformat": 4,
 "nbformat_minor": 2
}
